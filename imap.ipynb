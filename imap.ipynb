{
 "cells": [
  {
   "cell_type": "code",
   "execution_count": 3,
   "metadata": {},
   "outputs": [],
   "source": [
    "import imaplib\n",
    "import email\n",
    "from email.header import decode_header\n",
    "import os\n",
    "import webbrowser\n",
    "from transformers import pipeline"
   ]
  },
  {
   "cell_type": "code",
   "execution_count": 4,
   "metadata": {},
   "outputs": [
    {
     "name": "stdout",
     "output_type": "stream",
     "text": [
      "(\\HasNoChildren) \"/\" \"INBOX\"\n",
      "(\\HasChildren \\Noselect) \"/\" \"[Gmail]\"\n",
      "(\\HasNoChildren \\Sent) \"/\" \"[Gmail]/G&APY-nderilmi&AV8- Postalar\"\n",
      "(\\HasNoChildren \\Junk) \"/\" \"[Gmail]/Spam\"\n",
      "(\\Drafts \\HasNoChildren) \"/\" \"[Gmail]/Taslaklar\"\n",
      "(\\All \\HasNoChildren) \"/\" \"[Gmail]/T&APw-m Postalar\"\n",
      "(\\Flagged \\HasNoChildren) \"/\" \"[Gmail]/Y&ATE-ld&ATE-zl&ATE-\"\n",
      "(\\HasNoChildren \\Trash) \"/\" \"[Gmail]/&AMcA9g-p kutusu\"\n",
      "(\\HasNoChildren \\Important) \"/\" \"[Gmail]/&ANY-nemli\"\n"
     ]
    }
   ],
   "source": [
    "import config\n",
    "\n",
    "# Use the variables from config file\n",
    "mail = config.username\n",
    "password = config.password\n",
    "\n",
    "imap = imaplib.IMAP4_SSL(\"imap.gmail.com\")  # establish connection\n",
    "\n",
    "imap.login(mail, password)  # login\n",
    "\n",
    "response, mailboxes = imap.list()\n",
    "\n",
    "for mailbox in mailboxes:\n",
    "    print(mailbox.decode())\n"
   ]
  },
  {
   "cell_type": "code",
   "execution_count": 5,
   "metadata": {},
   "outputs": [],
   "source": [
    "status, messages = imap.select(\"INBOX\")  # select inbox\n",
    "\n",
    "summaryofsentemails=list()\n",
    "\n",
    "imap.select('\"INBOX\"')\n",
    "status, messages = imap.search(None, 'UNSEEN')\n",
    "\n",
    "# # search for all unread messages in the mailbox\n",
    "# _, messages = imap.search(None, \"UNSEEN\")"
   ]
  },
  {
   "cell_type": "code",
   "execution_count": 10,
   "metadata": {},
   "outputs": [],
   "source": [
    "summaryofsentemails=list()\n",
    "\n",
    "imap.select('\"INBOX\"')\n",
    "status, messages = imap.search(None, 'UNSEEN')\n",
    "\n",
    "# # search for all unread messages in the mailbox\n",
    "# _, messages = imap.search(None, \"UNSEEN\")\n",
    "\n",
    "# iterate over the messages and retrieve their contents\n",
    "for num in messages[0].split():\n",
    "    _, msg = imap.fetch(num, \"(RFC822)\")\n",
    "    message = email.message_from_bytes(msg[0][1])\n",
    "    if message.is_multipart():\n",
    "      for part in message.walk():\n",
    "        if part.get_content_type() == \"text/plain\":\n",
    "            content = part.get_payload(decode=True)\n",
    "            body=content.decode(\"utf-8\")\n",
    "            break\n",
    "    else:\n",
    "      if message.get_content_type() == \"text/plain\":\n",
    "            content = part.get_payload(decode=True)\n",
    "            body=content.decode(\"utf-8\")\n",
    "            break\n",
    "    \n",
    "    # print the message details\n",
    "    subject_header = message['Subject']\n",
    "    decoded_subject = email.header.decode_header(subject_header)\n",
    "    subject = decoded_subject[0][0]\n",
    "    print(\"Subject:\", subject)  \n",
    "    print(\"From:\", message[\"From\"])\n",
    "    print(\"Date:\", message[\"Date\"])"
   ]
  }
 ],
 "metadata": {
  "kernelspec": {
   "display_name": "Python 3",
   "language": "python",
   "name": "python3"
  },
  "language_info": {
   "codemirror_mode": {
    "name": "ipython",
    "version": 3
   },
   "file_extension": ".py",
   "mimetype": "text/x-python",
   "name": "python",
   "nbconvert_exporter": "python",
   "pygments_lexer": "ipython3",
   "version": "3.12.0"
  }
 },
 "nbformat": 4,
 "nbformat_minor": 2
}
