{
 "cells": [
  {
   "cell_type": "code",
   "execution_count": 1,
   "metadata": {},
   "outputs": [],
   "source": [
    "import imaplib\n",
    "import email\n",
    "from email.header import decode_header\n",
    "import os\n",
    "import webbrowser\n",
    "from transformers import pipeline"
   ]
  },
  {
   "cell_type": "code",
   "execution_count": 2,
   "metadata": {},
   "outputs": [
    {
     "name": "stdout",
     "output_type": "stream",
     "text": [
      "(\\HasNoChildren) \"/\" \"INBOX\"\n",
      "(\\HasChildren \\Noselect) \"/\" \"[Gmail]\"\n",
      "(\\HasNoChildren \\Sent) \"/\" \"[Gmail]/G&APY-nderilmi&AV8- Postalar\"\n",
      "(\\HasNoChildren \\Junk) \"/\" \"[Gmail]/Spam\"\n",
      "(\\Drafts \\HasNoChildren) \"/\" \"[Gmail]/Taslaklar\"\n",
      "(\\All \\HasNoChildren) \"/\" \"[Gmail]/T&APw-m Postalar\"\n",
      "(\\Flagged \\HasNoChildren) \"/\" \"[Gmail]/Y&ATE-ld&ATE-zl&ATE-\"\n",
      "(\\HasNoChildren \\Trash) \"/\" \"[Gmail]/&AMcA9g-p kutusu\"\n",
      "(\\HasNoChildren \\Important) \"/\" \"[Gmail]/&ANY-nemli\"\n"
     ]
    }
   ],
   "source": [
    "import config\n",
    "\n",
    "# Use the variables from config file\n",
    "mail = config.username\n",
    "password = config.password\n",
    "\n",
    "imap = imaplib.IMAP4_SSL(\"imap.gmail.com\")  # establish connection\n",
    "\n",
    "imap.login(mail, password)  # login\n",
    "\n",
    "response, mailboxes = imap.list()\n",
    "\n",
    "for mailbox in mailboxes:\n",
    "    print(mailbox.decode())\n",
    "\n",
    "status, messages = imap.select(\"INBOX\")  # select inbox"
   ]
  },
  {
   "cell_type": "code",
   "execution_count": 3,
   "metadata": {},
   "outputs": [
    {
     "name": "stdout",
     "output_type": "stream",
     "text": [
      "1754\n"
     ]
    }
   ],
   "source": [
    "numOfMessages = int(messages[0]) # get number of messages\n",
    " \n",
    "print(numOfMessages)\n",
    "\n",
    "def clean(text):\n",
    "    # clean text for creating a folder\n",
    "    return \"\".join(c if c.isalnum() else \"_\" for c in text)\n",
    " \n",
    "def obtain_header(msg):\n",
    "    # decode the email subject\n",
    "    subject, encoding = decode_header(msg[\"Subject\"])[0]\n",
    "    if isinstance(subject, bytes):\n",
    "        subject = subject.decode(encoding)\n",
    " \n",
    "    # decode email sender\n",
    "    From, encoding = decode_header(msg.get(\"From\"))[0]\n",
    "    if isinstance(From, bytes):\n",
    "        From = From.decode(encoding)\n",
    " \n",
    "    print(\"Subject:\", subject)\n",
    "    print(\"From:\", From)\n",
    "    return subject, From"
   ]
  },
  {
   "cell_type": "code",
   "execution_count": 4,
   "metadata": {},
   "outputs": [],
   "source": [
    "def download_attachment(part):\n",
    "    # download attachment\n",
    "    filename = part.get_filename()\n",
    " \n",
    "    if filename:\n",
    "        folder_name = clean(subject)\n",
    "        if not os.path.isdir(folder_name):\n",
    "            # make a folder for this email (named after the subject)\n",
    "            os.mkdir(folder_name)\n",
    "            filepath = os.path.join(folder_name, filename)\n",
    "            # download attachment and save it\n",
    "            open(filepath, \"wb\").write(part.get_payload(decode=True))\n",
    " "
   ]
  },
  {
   "cell_type": "code",
   "execution_count": 5,
   "metadata": {},
   "outputs": [],
   "source": [
    "import email\n",
    "import re\n",
    "from email.header import decode_header\n",
    "\n",
    "for i in range(numOfMessages, 0, -1):\n",
    "    res, msg = imap.fetch(str(i), \"(RFC822)\")  # fetches the email using it's ID     \n",
    "        # Assuming 'msg' is your list of responses\n",
    "    for response in msg:\n",
    "        if isinstance(response, tuple):\n",
    "            raw_email = response[1]\n",
    "            email_message = email.message_from_bytes(raw_email)\n",
    "    \n",
    "            if email_message.is_multipart():\n",
    "                for part in email_message.walk():\n",
    "                    if part.get_content_type() == \"text/plain\":\n",
    "                        charset = part.get_content_charset()\n",
    "                        if charset is None:\n",
    "                            charset = 'utf-8'\n",
    "                        body = part.get_payload(decode=True)\n",
    "                        body = body.decode(charset, errors='replace')\n",
    "                        # Remove URLs\n",
    "                        body = re.sub(r'http\\S+|www.\\S+', '', body, flags=re.MULTILINE)\n",
    "            else:\n",
    "                if email_message.get_content_type() == \"text/plain\":\n",
    "                    charset = email_message.get_content_charset()\n",
    "                    if charset is None:\n",
    "                        charset = 'utf-8'\n",
    "                    body = email_message.get_payload(decode=True)\n",
    "                    body = body.decode(charset, errors='replace')\n",
    "                    # Remove URLs\n",
    "                    body = re.sub(r'http\\S+|www.\\S+', '', body, flags=re.MULTILINE)\n",
    "    \n",
    "    path = f\"own_mails\\\\email{i}.txt\"\n",
    "\n",
    "    with open(path, 'w', encoding='utf-8') as f:\n",
    "        # Write the content of the variable to the file\n",
    "        f.write(body)\n"
   ]
  }
 ],
 "metadata": {
  "kernelspec": {
   "display_name": "Python 3",
   "language": "python",
   "name": "python3"
  },
  "language_info": {
   "codemirror_mode": {
    "name": "ipython",
    "version": 3
   },
   "file_extension": ".py",
   "mimetype": "text/x-python",
   "name": "python",
   "nbconvert_exporter": "python",
   "pygments_lexer": "ipython3",
   "version": "3.12.0"
  }
 },
 "nbformat": 4,
 "nbformat_minor": 2
}
